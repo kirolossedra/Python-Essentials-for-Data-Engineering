{
  "nbformat": 4,
  "nbformat_minor": 0,
  "metadata": {
    "colab": {
      "provenance": []
    },
    "kernelspec": {
      "name": "python3",
      "display_name": "Python 3"
    },
    "language_info": {
      "name": "python"
    }
  },
  "cells": [
    {
      "cell_type": "code",
      "execution_count": 2,
      "metadata": {
        "colab": {
          "base_uri": "https://localhost:8080/"
        },
        "id": "xYotjaQ3fTBR",
        "outputId": "19128575-1590-440d-b044-d7ee24f2d2bc"
      },
      "outputs": [
        {
          "output_type": "stream",
          "name": "stdout",
          "text": [
            "--2024-10-18 21:17:23--  https://cf-courses-data.s3.us.cloud-object-storage.appdomain.cloud/IBMSkillsNetwork-PY0221EN-Coursera/labs/v2/INSTRUCTOR.csv\n",
            "Resolving cf-courses-data.s3.us.cloud-object-storage.appdomain.cloud (cf-courses-data.s3.us.cloud-object-storage.appdomain.cloud)... 198.23.119.245\n",
            "Connecting to cf-courses-data.s3.us.cloud-object-storage.appdomain.cloud (cf-courses-data.s3.us.cloud-object-storage.appdomain.cloud)|198.23.119.245|:443... connected.\n",
            "HTTP request sent, awaiting response... 200 OK\n",
            "Length: 387 [text/csv]\n",
            "Saving to: ‘INSTRUCTOR.csv’\n",
            "\n",
            "INSTRUCTOR.csv      100%[===================>]     387  --.-KB/s    in 0s      \n",
            "\n",
            "2024-10-18 21:17:23 (74.5 MB/s) - ‘INSTRUCTOR.csv’ saved [387/387]\n",
            "\n"
          ]
        }
      ],
      "source": [
        "!wget https://cf-courses-data.s3.us.cloud-object-storage.appdomain.cloud/IBMSkillsNetwork-PY0221EN-Coursera/labs/v2/INSTRUCTOR.csv"
      ]
    },
    {
      "cell_type": "code",
      "source": [
        "import sqlite3\n",
        "import pandas as pd"
      ],
      "metadata": {
        "id": "qwNTsAupfhUY"
      },
      "execution_count": 4,
      "outputs": []
    },
    {
      "cell_type": "code",
      "source": [
        "\n",
        "conn = sqlite3.connect('STAFF.db')"
      ],
      "metadata": {
        "id": "GuSDi-qOfl3j"
      },
      "execution_count": 5,
      "outputs": []
    },
    {
      "cell_type": "code",
      "source": [
        "table_name = 'INSTRUCTOR'\n",
        "attribute_list = ['ID', 'FNAME', 'LNAME', 'CITY', 'CCODE']"
      ],
      "metadata": {
        "id": "h2LQIhPGfrMO"
      },
      "execution_count": 6,
      "outputs": []
    },
    {
      "cell_type": "code",
      "source": [
        "file_path = 'INSTRUCTOR.csv'\n",
        "df = pd.read_csv(file_path, names = attribute_list)"
      ],
      "metadata": {
        "id": "tMTPulbwft_r"
      },
      "execution_count": 7,
      "outputs": []
    },
    {
      "cell_type": "code",
      "source": [
        "df.to_sql(table_name, conn, if_exists = 'replace', index =False)\n",
        "print('Table is ready')"
      ],
      "metadata": {
        "colab": {
          "base_uri": "https://localhost:8080/"
        },
        "id": "CjODiXK8fxpi",
        "outputId": "0d3d6bc8-41b6-419b-d619-7f06b556efbd"
      },
      "execution_count": 8,
      "outputs": [
        {
          "output_type": "stream",
          "name": "stdout",
          "text": [
            "Table is ready\n"
          ]
        }
      ]
    },
    {
      "cell_type": "code",
      "source": [
        "query_statement = f\"SELECT * FROM {table_name}\"\n",
        "query_output = pd.read_sql(query_statement, conn)\n",
        "print(query_statement)\n",
        "print(query_output)"
      ],
      "metadata": {
        "colab": {
          "base_uri": "https://localhost:8080/"
        },
        "id": "Hfu6QFRkf0cV",
        "outputId": "d2d67359-34d6-4ed2-8bf0-ae1db095999d"
      },
      "execution_count": 9,
      "outputs": [
        {
          "output_type": "stream",
          "name": "stdout",
          "text": [
            "SELECT * FROM INSTRUCTOR\n",
            "    ID    FNAME      LNAME      CITY CCODE\n",
            "0    1      Rav      Ahuja   TORONTO    CA\n",
            "1    2     Raul      Chong   Markham    CA\n",
            "2    3     Hima  Vasudevan   Chicago    US\n",
            "3    4     John     Thomas  Illinois    US\n",
            "4    5    Alice      James  Illinois    US\n",
            "5    6    Steve      Wells  Illinois    US\n",
            "6    7  Santosh      Kumar  Illinois    US\n",
            "7    8    Ahmed    Hussain  Illinois    US\n",
            "8    9    Nancy      Allen  Illinois    US\n",
            "9   10     Mary     Thomas  Illinois    US\n",
            "10  11  Bharath      Gupta  Illinois    US\n",
            "11  12   Andrea      Jones  Illinois    US\n",
            "12  13      Ann      Jacob  Illinois    US\n",
            "13  14     Amit      Kumar  NewDelhi    IN\n"
          ]
        }
      ]
    },
    {
      "cell_type": "code",
      "source": [
        "query_statement = f\"SELECT FNAME FROM {table_name}\"\n",
        "query_output = pd.read_sql(query_statement, conn)\n",
        "print(query_statement)\n",
        "print(query_output)"
      ],
      "metadata": {
        "colab": {
          "base_uri": "https://localhost:8080/"
        },
        "id": "2BhBKt9bf2sa",
        "outputId": "62790f5a-ed16-4580-a15f-1d53e831b401"
      },
      "execution_count": 10,
      "outputs": [
        {
          "output_type": "stream",
          "name": "stdout",
          "text": [
            "SELECT FNAME FROM INSTRUCTOR\n",
            "      FNAME\n",
            "0       Rav\n",
            "1      Raul\n",
            "2      Hima\n",
            "3      John\n",
            "4     Alice\n",
            "5     Steve\n",
            "6   Santosh\n",
            "7     Ahmed\n",
            "8     Nancy\n",
            "9      Mary\n",
            "10  Bharath\n",
            "11   Andrea\n",
            "12      Ann\n",
            "13     Amit\n"
          ]
        }
      ]
    },
    {
      "cell_type": "code",
      "source": [
        "query_statement = f\"SELECT COUNT(*) FROM {table_name}\"\n",
        "query_output = pd.read_sql(query_statement, conn)\n",
        "print(query_statement)\n",
        "print(query_output)"
      ],
      "metadata": {
        "colab": {
          "base_uri": "https://localhost:8080/"
        },
        "id": "RENoQwUDgIFl",
        "outputId": "a15a55b1-ec4a-4fa0-8397-804b16b8e1f8"
      },
      "execution_count": 17,
      "outputs": [
        {
          "output_type": "stream",
          "name": "stdout",
          "text": [
            "SELECT COUNT(*) FROM INSTRUCTOR\n",
            "   COUNT(*)\n",
            "0        14\n"
          ]
        }
      ]
    },
    {
      "cell_type": "code",
      "source": [
        "data_dict = {'ID' : [100],\n",
        "            'FNAME' : ['John'],\n",
        "            'LNAME' : ['Doe'],\n",
        "            'CITY' : ['Paris'],\n",
        "            'CCODE' : ['FR']}\n",
        "data_append = pd.DataFrame(data_dict)"
      ],
      "metadata": {
        "id": "pNyOZY8qgKgM"
      },
      "execution_count": 18,
      "outputs": []
    },
    {
      "cell_type": "code",
      "source": [
        "data_append.to_sql(table_name, conn, if_exists = 'append', index =False)\n",
        "print('Data appended successfully')"
      ],
      "metadata": {
        "colab": {
          "base_uri": "https://localhost:8080/"
        },
        "id": "v6ct6QpEgMp9",
        "outputId": "5e416299-60e7-4a46-e339-5927f72a5b2c"
      },
      "execution_count": 19,
      "outputs": [
        {
          "output_type": "stream",
          "name": "stdout",
          "text": [
            "Data appended successfully\n"
          ]
        }
      ]
    },
    {
      "cell_type": "code",
      "source": [
        "conn.close()"
      ],
      "metadata": {
        "id": "nTL66hCRgO24"
      },
      "execution_count": 20,
      "outputs": []
    },
    {
      "cell_type": "code",
      "source": [
        "# Other practice\n",
        "!wget https://cf-courses-data.s3.us.cloud-object-storage.appdomain.cloud/IBMSkillsNetwork-PY0221EN-Coursera/labs/v2/Departments.csv"
      ],
      "metadata": {
        "colab": {
          "base_uri": "https://localhost:8080/"
        },
        "id": "y78ZHpBRgXh2",
        "outputId": "7f15a72f-d8a8-41e9-ce6b-0ca71c417917"
      },
      "execution_count": 21,
      "outputs": [
        {
          "output_type": "stream",
          "name": "stdout",
          "text": [
            "--2024-10-18 21:21:23--  https://cf-courses-data.s3.us.cloud-object-storage.appdomain.cloud/IBMSkillsNetwork-PY0221EN-Coursera/labs/v2/Departments.csv\n",
            "Resolving cf-courses-data.s3.us.cloud-object-storage.appdomain.cloud (cf-courses-data.s3.us.cloud-object-storage.appdomain.cloud)... 198.23.119.245\n",
            "Connecting to cf-courses-data.s3.us.cloud-object-storage.appdomain.cloud (cf-courses-data.s3.us.cloud-object-storage.appdomain.cloud)|198.23.119.245|:443... connected.\n",
            "HTTP request sent, awaiting response... 200 OK\n",
            "Length: 88 [text/csv]\n",
            "Saving to: ‘Departments.csv’\n",
            "\n",
            "Departments.csv     100%[===================>]      88  --.-KB/s    in 0s      \n",
            "\n",
            "2024-10-18 21:21:24 (25.5 MB/s) - ‘Departments.csv’ saved [88/88]\n",
            "\n"
          ]
        }
      ]
    }
  ]
}