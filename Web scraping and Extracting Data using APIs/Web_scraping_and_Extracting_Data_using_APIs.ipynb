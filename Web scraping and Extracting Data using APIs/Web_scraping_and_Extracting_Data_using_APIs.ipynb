{
  "nbformat": 4,
  "nbformat_minor": 0,
  "metadata": {
    "colab": {
      "provenance": []
    },
    "kernelspec": {
      "name": "python3",
      "display_name": "Python 3"
    },
    "language_info": {
      "name": "python"
    }
  },
  "cells": [
    {
      "cell_type": "code",
      "execution_count": 2,
      "metadata": {
        "id": "8xyBt3Fjdo5Z"
      },
      "outputs": [],
      "source": [
        "import requests\n",
        "import sqlite3\n",
        "import pandas as pd\n",
        "from bs4 import BeautifulSoup"
      ]
    },
    {
      "cell_type": "code",
      "source": [
        "url = 'https://web.archive.org/web/20230902185655/https://en.everybodywiki.com/100_Most_Highly-Ranked_Films'\n",
        "db_name = 'Movies.db'\n",
        "table_name = 'Top_50'\n",
        "csv_path = 'CSV/top_50_films.csv'\n",
        "df = pd.DataFrame(columns=[\"Average Rank\",\"Film\",\"Year\"])\n",
        "count = 0"
      ],
      "metadata": {
        "id": "L15S8SEKd1sW"
      },
      "execution_count": 9,
      "outputs": []
    },
    {
      "cell_type": "code",
      "source": [
        "html_page = requests.get(url).text\n",
        "data = BeautifulSoup(html_page, 'html.parser')"
      ],
      "metadata": {
        "id": "H-iudhn8d7Ld"
      },
      "execution_count": 4,
      "outputs": []
    },
    {
      "cell_type": "code",
      "source": [
        "tables = data.find_all('tbody')\n",
        "rows = tables[0].find_all('tr')"
      ],
      "metadata": {
        "id": "sQCdVw1ed9o2"
      },
      "execution_count": 5,
      "outputs": []
    },
    {
      "cell_type": "code",
      "source": [
        "for row in rows:\n",
        "    if count<50:\n",
        "        col = row.find_all('td')\n",
        "        if len(col)!=0:\n",
        "            data_dict = {\"Average Rank\": col[0].contents[0],\n",
        "                         \"Film\": col[1].contents[0],\n",
        "                         \"Year\": col[2].contents[0]}\n",
        "            df1 = pd.DataFrame(data_dict, index=[0])\n",
        "            df = pd.concat([df,df1], ignore_index=True)\n",
        "            count+=1\n",
        "    else:\n",
        "        break"
      ],
      "metadata": {
        "id": "8G1eG1ZAeJo4"
      },
      "execution_count": 6,
      "outputs": []
    },
    {
      "cell_type": "code",
      "source": [
        "print(df)"
      ],
      "metadata": {
        "colab": {
          "base_uri": "https://localhost:8080/"
        },
        "id": "teipKY0IeMOe",
        "outputId": "983abbd3-0ad5-450f-e087-884451baaa49"
      },
      "execution_count": 7,
      "outputs": [
        {
          "output_type": "stream",
          "name": "stdout",
          "text": [
            "   Average Rank                                           Film  Year\n",
            "0             1                                  The Godfather  1972\n",
            "1             2                                   Citizen Kane  1941\n",
            "2             3                                     Casablanca  1942\n",
            "3             4                         The Godfather, Part II  1974\n",
            "4             5                            Singin' in the Rain  1952\n",
            "5             6                                         Psycho  1960\n",
            "6             7                                    Rear Window  1954\n",
            "7             8                                 Apocalypse Now  1979\n",
            "8             9                          2001: A Space Odyssey  1968\n",
            "9            10                                  Seven Samurai  1954\n",
            "10           11                                        Vertigo  1958\n",
            "11           12                                    Sunset Blvd  1950\n",
            "12           13                                   Modern Times  1936\n",
            "13           14                             Lawrence of Arabia  1962\n",
            "14           15                             North by Northwest  1959\n",
            "15           16                                      Star Wars  1977\n",
            "16           17                                       Parasite  2019\n",
            "17           18                               Schindler's List  1993\n",
            "18           19  Lord of the Rings: The Fellowship of the Ring  2001\n",
            "19           20                           Shawshank Redemption  1994\n",
            "20           21                          It's a Wonderful Life  1946\n",
            "21           22                                   Pulp Fiction  1994\n",
            "22           23                              Avengers: Endgame  2019\n",
            "23           24                                    City Lights  1931\n",
            "24           25                One Flew Over the Cuckoo's Nest  1975\n",
            "25           26                                     Goodfellas  1990\n",
            "26           27                        Raiders of the Lost Ark  1981\n",
            "27           28                                   12 Angry Men  1957\n",
            "28           29                       The Silence of the Lambs  1991\n",
            "29           30                                    Taxi Driver  1976\n",
            "30           31                            Saving Private Ryan  1998\n",
            "31           32                     E.T. the Extra Terrestrial  1982\n",
            "32           33                                          Alien  1979\n",
            "33           34              Spider-Man: Into the Spider-verse  2018\n",
            "34           35                                   Blade Runner  1982\n",
            "35           36                               Double Indemnity  1944\n",
            "36           37                                The Dark Knight  2008\n",
            "37           38                               The Wizard of Oz  1939\n",
            "38           39  Star Wars: Episode V- The Empire Strikes Back  1980\n",
            "39           40                                  The Searchers  1956\n",
            "40           41                             Mad Max: Fury Road  2015\n",
            "41           42                                      Inception  2010\n",
            "42           43          Lord of the Rings: Return of the King  2003\n",
            "43           44                                     The Matrix  1999\n",
            "44           45                                     Fight Club  1999\n",
            "45           46                             Back to the Future  1985\n",
            "46           47                          It Happened One Night  1934\n",
            "47           48                The Good, the Bad, and the Ugly  1966\n",
            "48           49              Lord of the Rings: The Two Towers  2002\n",
            "49           50                                  All About Eve  1950\n"
          ]
        }
      ]
    },
    {
      "cell_type": "code",
      "source": [
        "df.to_csv(csv_path)"
      ],
      "metadata": {
        "id": "LSB007rreRP0"
      },
      "execution_count": 11,
      "outputs": []
    },
    {
      "cell_type": "code",
      "source": [
        "conn = sqlite3.connect(db_name)\n",
        "df.to_sql(table_name, conn, if_exists='replace', index=False)\n",
        "conn.close()"
      ],
      "metadata": {
        "id": "GvEFHmz5efyY"
      },
      "execution_count": 12,
      "outputs": []
    },
    {
      "cell_type": "code",
      "source": [],
      "metadata": {
        "id": "a0EjL3U_egq2"
      },
      "execution_count": null,
      "outputs": []
    }
  ]
}