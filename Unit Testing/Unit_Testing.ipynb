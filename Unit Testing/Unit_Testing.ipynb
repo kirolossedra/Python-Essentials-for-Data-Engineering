{
  "nbformat": 4,
  "nbformat_minor": 0,
  "metadata": {
    "colab": {
      "provenance": []
    },
    "kernelspec": {
      "name": "python3",
      "display_name": "Python 3"
    },
    "language_info": {
      "name": "python"
    }
  },
  "cells": [
    {
      "cell_type": "code",
      "execution_count": 7,
      "metadata": {
        "colab": {
          "base_uri": "https://localhost:8080/"
        },
        "id": "X3nKImDiYqd3",
        "outputId": "24456a09-f152-4136-d749-0b87397fc371"
      },
      "outputs": [
        {
          "output_type": "stream",
          "name": "stderr",
          "text": [
            ".\n",
            "----------------------------------------------------------------------\n",
            "Ran 1 test in 0.003s\n",
            "\n",
            "OK\n",
            ".\n",
            "----------------------------------------------------------------------\n",
            "Ran 1 test in 0.002s\n",
            "\n",
            "OK\n"
          ]
        },
        {
          "output_type": "execute_result",
          "data": {
            "text/plain": [
              "<unittest.runner.TextTestResult run=1 errors=0 failures=0>"
            ]
          },
          "metadata": {},
          "execution_count": 7
        }
      ],
      "source": [
        "# Import the 'unittest' module to create unit tests for your code.\n",
        "import unittest\n",
        "# Import the 'square' and 'double' functions from the 'mymodule' module.\n",
        "from mymodule import square, double\n",
        "\n",
        "# Define a test case class for testing the 'square' function.\n",
        "class TestSquare(unittest.TestCase):\n",
        "    def test1(self):\n",
        "        self.assertEqual(square(2), 4)\n",
        "        self.assertEqual(square(3.0), 9.0)\n",
        "        self.assertNotEqual(square(-3), -9)\n",
        "\n",
        "# Define a test case class for testing the 'double' function.\n",
        "class TestDouble(unittest.TestCase):\n",
        "    def test1(self):\n",
        "        self.assertEqual(double(2), 4)\n",
        "        self.assertEqual(double(-3.1), -6.2)\n",
        "        self.assertEqual(double(0), 0)\n",
        "\n",
        "# Run the tests\n",
        "unittest.TextTestRunner().run(unittest.TestLoader().loadTestsFromTestCase(TestSquare))\n",
        "unittest.TextTestRunner().run(unittest.TestLoader().loadTestsFromTestCase(TestDouble))\n"
      ]
    }
  ]
}